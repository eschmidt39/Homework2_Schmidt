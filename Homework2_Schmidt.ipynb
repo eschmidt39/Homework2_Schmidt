{
  "nbformat": 4,
  "nbformat_minor": 0,
  "metadata": {
    "colab": {
      "provenance": [],
      "authorship_tag": "ABX9TyMwAsUQ5kydkVvTxCDkfFXg",
      "include_colab_link": true
    },
    "kernelspec": {
      "name": "python3",
      "display_name": "Python 3"
    },
    "language_info": {
      "name": "python"
    }
  },
  "cells": [
    {
      "cell_type": "markdown",
      "metadata": {
        "id": "view-in-github",
        "colab_type": "text"
      },
      "source": [
        "<a href=\"https://colab.research.google.com/github/eschmidt39/Homework2_Schmidt/blob/main/Homework2_Schmidt.ipynb\" target=\"_parent\"><img src=\"https://colab.research.google.com/assets/colab-badge.svg\" alt=\"Open In Colab\"/></a>"
      ]
    },
    {
      "cell_type": "markdown",
      "source": [
        "Bubble sort: goes through the list and determines whether the next element is greater than the previous; if it is, the two elements swap places to be organized in acsending order (if you want decending order, previous > next)"
      ],
      "metadata": {
        "id": "JeV_nm9isfKj"
      }
    },
    {
      "cell_type": "code",
      "source": [
        "#generate random list of 50 elements between 1 and 100\n",
        "import random\n",
        "random.seed()\n",
        "\n",
        "L=random.sample(range(1,101),50)\n",
        "print(\"Original:\", L)\n",
        "\n",
        "#use bubble sort to organize L in asending order\n",
        "n=len(L)\n",
        "for i in range (n-1): #the number of times the loop should run\n",
        "  for j in range (n-i-1): #the number of swaps ignoring the last once already in place\n",
        "    if L[j]>L[j+1]:\n",
        "      L[j],L[j+1]=L[j+1],L[j] #if the next number is larger than the preceding number, it swaps them\n",
        "\n",
        "print(\"Sorted:\",L)"
      ],
      "metadata": {
        "colab": {
          "base_uri": "https://localhost:8080/"
        },
        "id": "birUuU2Znxnl",
        "outputId": "6bf0e9fa-712d-4f9c-9326-35eb435117c7"
      },
      "execution_count": 11,
      "outputs": [
        {
          "output_type": "stream",
          "name": "stdout",
          "text": [
            "Original: [93, 18, 61, 99, 87, 100, 19, 10, 84, 31, 79, 78, 37, 45, 71, 90, 69, 68, 80, 16, 95, 73, 42, 41, 38, 4, 60, 8, 62, 35, 77, 3, 91, 17, 65, 22, 11, 7, 20, 34, 70, 13, 74, 43, 89, 28, 40, 25, 96, 66]\n",
            "Sorted: [3, 4, 7, 8, 10, 11, 13, 16, 17, 18, 19, 20, 22, 25, 28, 31, 34, 35, 37, 38, 40, 41, 42, 43, 45, 60, 61, 62, 65, 66, 68, 69, 70, 71, 73, 74, 77, 78, 79, 80, 84, 87, 89, 90, 91, 93, 95, 96, 99, 100]\n"
          ]
        }
      ]
    },
    {
      "cell_type": "markdown",
      "source": [
        "code above continues going through the loop; code underneath stops once it goes through the loop once without any swaps"
      ],
      "metadata": {
        "id": "DADc5lGwrsWA"
      }
    },
    {
      "cell_type": "code",
      "source": [
        "#generate random list\n",
        "import random\n",
        "random.seed()\n",
        "L=random.sample(range(1,101),50)\n",
        "print(\"Origninal:\",L)\n",
        "\n",
        "#use bubble sort to organize L in asending order\n",
        "n=len(L)\n",
        "\n",
        "for i in range (n-1): #the number of times it should run\n",
        "  swapped=False #doesn't swap, last number is in it's place\n",
        "  for j in range(n-i-1): #swaps if next number is > preceding number\n",
        "    if L[j]>L[j+1]:\n",
        "      L[j],L[j+1]=L[j+1],L[j]\n",
        "      swapped=True #marks as swapped\n",
        "  if (swapped==False): #it goes through the loop without making a swap it stops\n",
        "    break\n",
        "\n",
        "print(\"Sorted:\",L)"
      ],
      "metadata": {
        "colab": {
          "base_uri": "https://localhost:8080/"
        },
        "id": "T_xhC7SbozoB",
        "outputId": "57cd9a92-677b-4504-d9fe-3dbda1305982"
      },
      "execution_count": 40,
      "outputs": [
        {
          "output_type": "stream",
          "name": "stdout",
          "text": [
            "Origninal: [98, 49, 56, 58, 57, 74, 48, 55, 44, 96, 42, 22, 29, 94, 86, 21, 90, 2, 77, 76, 93, 14, 9, 3, 24, 89, 82, 8, 32, 33, 91, 30, 28, 78, 65, 60, 5, 87, 6, 18, 61, 12, 70, 69, 27, 59, 71, 7, 34, 17]\n",
            "Sorted: [2, 3, 5, 6, 7, 8, 9, 12, 14, 17, 18, 21, 22, 24, 27, 28, 29, 30, 32, 33, 34, 42, 44, 48, 49, 55, 56, 57, 58, 59, 60, 61, 65, 69, 70, 71, 74, 76, 77, 78, 82, 86, 87, 89, 90, 91, 93, 94, 96, 98]\n"
          ]
        }
      ]
    },
    {
      "cell_type": "markdown",
      "source": [
        "insertion sort: separates the sorted and unsorted elements and moves through the elements and places them into the sorted section; the first element is considered \"sorted\" and the next element moves into the \"sorted\" section in the correct spot by pushing elements > it to the right, continues through until all elements are moved into the correct position of the \"sorted\" section"
      ],
      "metadata": {
        "id": "w2DjAc47s_nA"
      }
    },
    {
      "cell_type": "code",
      "source": [
        "#generate random list\n",
        "import random\n",
        "random.seed()\n",
        "L=random.sample(range(1,101),50)\n",
        "print(\"Original:\",L)\n",
        "\n",
        "#use insertion sort to organize L in ascending order\n",
        "n=len(L)\n",
        "\n",
        "for i in range (1,n): #start with second element\n",
        "  insert_value=i #save value to be inserted later\n",
        "  current_value=L[i] #removed i from the list\n",
        "  for j in range (i-1,-1,-1):\n",
        "    if L[j]>current_value: #shift elements to the right\n",
        "      L[j+1]=L[j]\n",
        "      insert_index=j\n",
        "    else:\n",
        "      break\n",
        "  L[insert_index]=current_value\n",
        "print(\"Sorted:\",L)"
      ],
      "metadata": {
        "colab": {
          "base_uri": "https://localhost:8080/"
        },
        "id": "qDAaHHc1sERW",
        "outputId": "af96289f-c643-4b40-cd5f-efcc21d0b827"
      },
      "execution_count": 32,
      "outputs": [
        {
          "output_type": "stream",
          "name": "stdout",
          "text": [
            "Original: [30, 28, 73, 4, 83, 38, 93, 61, 24, 41, 5, 92, 13, 3, 98, 50, 18, 44, 67, 77, 86, 36, 35, 68, 31, 72, 2, 75, 42, 95, 66, 96, 70, 12, 43, 100, 89, 84, 90, 76, 57, 33, 46, 45, 49, 40, 32, 17, 60, 26]\n",
            "Sorted: [2, 98, 5, 12, 13, 17, 18, 24, 26, 83, 73, 30, 31, 32, 33, 35, 36, 40, 41, 42, 100, 44, 45, 46, 49, 50, 57, 60, 61, 66, 67, 68, 70, 72, 93, 73, 75, 76, 77, 83, 84, 86, 89, 90, 92, 93, 95, 96, 98, 100]\n"
          ]
        }
      ]
    },
    {
      "cell_type": "code",
      "source": [
        "#generate random list\n",
        "import random\n",
        "random.seed()\n",
        "L=random.sample(range(1,101),50)\n",
        "print(\"Original:\",L)\n",
        "\n",
        "#use insertion sort to organize L in ascending order\n",
        "n=len(L)\n",
        "\n",
        "for i in range (0,n): #start from second element\n",
        "  key=L[i] #store current element to be put in the correct spot\n",
        "  j=i-1 #set j as the element before i\n",
        "  while j>=0 and key<L[j]: #move elements >key one spot over\n",
        "    L[j+1]=L[j] #shift right\n",
        "    j-=1\n",
        "  L[j+1]=key #move to the next element\n",
        "\n",
        "print(\"Sorted:\",L)"
      ],
      "metadata": {
        "colab": {
          "base_uri": "https://localhost:8080/"
        },
        "id": "YEnkL-Ve0uBl",
        "outputId": "3d4b6bc6-9d0c-49dc-935b-c2e87c993cdc"
      },
      "execution_count": 41,
      "outputs": [
        {
          "output_type": "stream",
          "name": "stdout",
          "text": [
            "Original: [1, 57, 22, 9, 77, 5, 74, 54, 91, 89, 24, 52, 95, 69, 48, 14, 25, 49, 92, 78, 13, 21, 98, 60, 97, 36, 34, 32, 79, 37, 86, 6, 99, 33, 42, 44, 12, 4, 26, 23, 16, 15, 90, 100, 2, 65, 93, 50, 63, 84]\n",
            "Sorted: [1, 2, 4, 5, 6, 9, 12, 13, 14, 15, 16, 21, 22, 23, 24, 25, 26, 32, 33, 34, 36, 37, 42, 44, 48, 49, 50, 52, 54, 57, 60, 63, 65, 69, 74, 77, 78, 79, 84, 86, 89, 90, 91, 92, 93, 95, 97, 98, 99, 100]\n"
          ]
        }
      ]
    },
    {
      "cell_type": "markdown",
      "source": [
        "Sorting example from in-class:"
      ],
      "metadata": {
        "id": "utBgEh8s0mOl"
      }
    },
    {
      "cell_type": "code",
      "source": [
        "#generate random list\n",
        "import random\n",
        "random.seed()\n",
        "L=random.sample(range(1,101),50)\n",
        "print(\"Original:\",L)\n",
        "\n",
        "#create blank list to put the sorted list into\n",
        "L1=[]\n",
        "\n",
        "while len(L)>=1: #works for lists at least 1 element long\n",
        "  mini=999 #maximium value of i\n",
        "  for i in L:\n",
        "    if i < mini: #when i<mini, mini becomes i\n",
        "      mini=i\n",
        "  L.remove(mini) #remove i from L because it's already sorted\n",
        "  L1.append(mini) #add i to L1\n",
        "print(\"Sorted:\",L1)"
      ],
      "metadata": {
        "colab": {
          "base_uri": "https://localhost:8080/"
        },
        "id": "lU0aTC6LzlvF",
        "outputId": "a43208f9-d4ab-49b7-ad7e-02d9ef535029"
      },
      "execution_count": 36,
      "outputs": [
        {
          "output_type": "stream",
          "name": "stdout",
          "text": [
            "Original: [51, 54, 11, 55, 77, 22, 14, 99, 82, 47, 31, 45, 29, 65, 35, 48, 39, 97, 95, 32, 36, 74, 1, 34, 67, 25, 86, 61, 19, 58, 92, 85, 71, 6, 91, 68, 87, 100, 42, 24, 27, 49, 21, 81, 23, 63, 88, 56, 28, 79]\n",
            "Sorted: [1, 6, 11, 14, 19, 21, 22, 23, 24, 25, 27, 28, 29, 31, 32, 34, 35, 36, 39, 42, 45, 47, 48, 49, 51, 54, 55, 56, 58, 61, 63, 65, 67, 68, 71, 74, 77, 79, 81, 82, 85, 86, 87, 88, 91, 92, 95, 97, 99, 100]\n"
          ]
        }
      ]
    }
  ]
}